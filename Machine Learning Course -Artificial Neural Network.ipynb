{
 "cells": [
  {
   "cell_type": "markdown",
   "metadata": {},
   "source": [
    "## Theano library \n",
    ">Very efficient for fast numerical computations.It can run on both Cpu and Gpu\n",
    "\n",
    "## TensorFlow- by googleteam\n",
    "> mostly for development netwrok for deep learning codes.It can also run on both Cpu and Gpu\n",
    "\n",
    "## Keras - Build deep learning model with few codes"
   ]
  },
  {
   "cell_type": "markdown",
   "metadata": {},
   "source": [
    "# Data Preprocessing"
   ]
  },
  {
   "cell_type": "code",
   "execution_count": 30,
   "metadata": {},
   "outputs": [],
   "source": [
    "import pandas as pd\n",
    "import numpy as np\n",
    "import matplotlib.pyplot as plt\n",
    "from sklearn.preprocessing import LabelEncoder, OneHotEncoder\n",
    "from sklearn.cross_validation import train_test_split\n",
    "import keras\n",
    "from keras.models import Sequential\n",
    "from keras.layers import Dense"
   ]
  },
  {
   "cell_type": "code",
   "execution_count": 4,
   "metadata": {},
   "outputs": [],
   "source": [
    "dataset = pd.read_csv(\"C:/Users/Ananta Arora/Documents/Machine Learning A-Z/Artificial_Neural_Networks/Churn_Modelling.csv\")"
   ]
  },
  {
   "cell_type": "code",
   "execution_count": 73,
   "metadata": {},
   "outputs": [],
   "source": [
    "# Importing the dataset\n",
    "X = dataset.iloc[:, 3:13].values\n",
    "Y = dataset.iloc[:, 13].values"
   ]
  },
  {
   "cell_type": "code",
   "execution_count": 74,
   "metadata": {},
   "outputs": [],
   "source": [
    "# Encoding categorical data\n",
    "labelencoder_X_1 = LabelEncoder()\n",
    "X[:, 1] = labelencoder_X_1.fit_transform(X[:, 1])\n",
    "labelencoder_X_2 = LabelEncoder()\n",
    "X[:, 2] = labelencoder_X_2.fit_transform(X[:, 2])\n",
    "onehotencoder = OneHotEncoder(categorical_features=[1])\n",
    "X = onehotencoder.fit_transform(X).toarray()\n",
    "X = X[:, 1:]\n"
   ]
  },
  {
   "cell_type": "code",
   "execution_count": 75,
   "metadata": {},
   "outputs": [],
   "source": [
    "X_train, X_test, Y_train, Y_test = train_test_split(X, Y, test_size = 0.2, random_state = 0)\n",
    "# # Splitting the dataset into the Training set and Test set"
   ]
  },
  {
   "cell_type": "code",
   "execution_count": 76,
   "metadata": {},
   "outputs": [],
   "source": [
    "# Feature Scaling\n",
    "from sklearn.preprocessing import StandardScaler\n",
    "sc_X = StandardScaler()\n",
    "X_train = sc_X.fit_transform(X_train)\n",
    "X_test = sc_X.transform(X_test)\n"
   ]
  },
  {
   "cell_type": "code",
   "execution_count": 77,
   "metadata": {},
   "outputs": [],
   "source": [
    "# Initializing the ANN\n",
    "classifier = Sequential()\n",
    "# Sigmoid function for output layer\n",
    "# Rectifier function for input layer"
   ]
  },
  {
   "cell_type": "code",
   "execution_count": 78,
   "metadata": {},
   "outputs": [],
   "source": [
    "# Adding the input layer and the first hidden layer\n",
    "layer_info = Dense(activation='relu', input_dim=11, kernel_initializer='uniform', units=6)\n",
    "classifier.add(layer_info)\n",
    "#input dim is the number of inputs in hidden layer\n"
   ]
  },
  {
   "cell_type": "code",
   "execution_count": 79,
   "metadata": {},
   "outputs": [],
   "source": [
    "# Adding second hidden layer\n",
    "layer_info = Dense(activation='relu', kernel_initializer='uniform', units=6)\n",
    "classifier.add(layer_info)\n",
    "# we can remove input dim because input leliya\n"
   ]
  },
  {
   "cell_type": "code",
   "execution_count": 80,
   "metadata": {},
   "outputs": [],
   "source": [
    "# Adding output layer\n",
    "layer_info = Dense(activation='sigmoid', kernel_initializer='uniform', units=1)\n",
    "classifier.add(layer_info)"
   ]
  },
  {
   "cell_type": "code",
   "execution_count": 81,
   "metadata": {},
   "outputs": [],
   "source": [
    "# Compiling the ANN\n",
    "classifier.compile(optimizer='adam', loss='binary_crossentropy', metrics=['accuracy'])\n",
    "\n",
    "\n"
   ]
  },
  {
   "cell_type": "code",
   "execution_count": null,
   "metadata": {},
   "outputs": [
    {
     "name": "stderr",
     "output_type": "stream",
     "text": [
      "c:\\users\\ananta arora\\appdata\\local\\programs\\python\\python36\\lib\\site-packages\\keras\\models.py:942: UserWarning: The `nb_epoch` argument in `fit` has been renamed `epochs`.\n",
      "  warnings.warn('The `nb_epoch` argument in `fit` '\n"
     ]
    },
    {
     "name": "stdout",
     "output_type": "stream",
     "text": [
      "Epoch 1/100\n",
      "8000/8000 [==============================] - 4s 466us/step - loss: 0.4842 - acc: 0.7952\n",
      "Epoch 2/100\n",
      "8000/8000 [==============================] - 1s 133us/step - loss: 0.4275 - acc: 0.7960\n",
      "Epoch 3/100\n",
      "8000/8000 [==============================] - 1s 131us/step - loss: 0.4221 - acc: 0.7965\n",
      "Epoch 4/100\n",
      "8000/8000 [==============================] - 1s 136us/step - loss: 0.4180 - acc: 0.8205\n",
      "Epoch 5/100\n",
      "8000/8000 [==============================] - 1s 140us/step - loss: 0.4163 - acc: 0.8262\n",
      "Epoch 6/100\n",
      "8000/8000 [==============================] - 1s 150us/step - loss: 0.4142 - acc: 0.8282\n",
      "Epoch 7/100\n",
      "8000/8000 [==============================] - 1s 140us/step - loss: 0.4129 - acc: 0.8302\n",
      "Epoch 8/100\n",
      "8000/8000 [==============================] - 1s 136us/step - loss: 0.4114 - acc: 0.8331\n",
      "Epoch 9/100\n",
      "8000/8000 [==============================] - 1s 164us/step - loss: 0.4105 - acc: 0.8325\n",
      "Epoch 10/100\n",
      "8000/8000 [==============================] - 1s 138us/step - loss: 0.4097 - acc: 0.8336\n",
      "Epoch 11/100\n",
      "8000/8000 [==============================] - 1s 142us/step - loss: 0.4092 - acc: 0.8324\n",
      "Epoch 12/100\n",
      "8000/8000 [==============================] - 1s 137us/step - loss: 0.4087 - acc: 0.8336\n",
      "Epoch 13/100\n",
      "8000/8000 [==============================] - 1s 137us/step - loss: 0.4081 - acc: 0.8332\n",
      "Epoch 14/100\n",
      "8000/8000 [==============================] - 1s 135us/step - loss: 0.4074 - acc: 0.8325\n",
      "Epoch 15/100\n",
      "8000/8000 [==============================] - 1s 136us/step - loss: 0.4070 - acc: 0.8339\n",
      "Epoch 16/100\n",
      "8000/8000 [==============================] - 1s 139us/step - loss: 0.4058 - acc: 0.8336\n",
      "Epoch 17/100\n",
      "8000/8000 [==============================] - 1s 134us/step - loss: 0.4059 - acc: 0.8347\n",
      "Epoch 18/100\n",
      "8000/8000 [==============================] - 1s 140us/step - loss: 0.4057 - acc: 0.8341\n",
      "Epoch 19/100\n",
      "8000/8000 [==============================] - 1s 144us/step - loss: 0.4059 - acc: 0.8344\n",
      "Epoch 20/100\n",
      "8000/8000 [==============================] - 1s 155us/step - loss: 0.4048 - acc: 0.8344\n",
      "Epoch 21/100\n",
      "8000/8000 [==============================] - 1s 152us/step - loss: 0.4047 - acc: 0.8346\n",
      "Epoch 22/100\n",
      "8000/8000 [==============================] - 1s 140us/step - loss: 0.4047 - acc: 0.8345\n",
      "Epoch 23/100\n",
      "8000/8000 [==============================] - 1s 133us/step - loss: 0.4042 - acc: 0.8337\n",
      "Epoch 24/100\n",
      "8000/8000 [==============================] - 1s 139us/step - loss: 0.4042 - acc: 0.8345\n",
      "Epoch 25/100\n",
      "8000/8000 [==============================] - 1s 143us/step - loss: 0.4041 - acc: 0.8341\n",
      "Epoch 26/100\n",
      "8000/8000 [==============================] - 1s 156us/step - loss: 0.4041 - acc: 0.8337\n",
      "Epoch 27/100\n",
      "8000/8000 [==============================] - 1s 138us/step - loss: 0.4036 - acc: 0.8335\n",
      "Epoch 28/100\n",
      "8000/8000 [==============================] - 1s 139us/step - loss: 0.4031 - acc: 0.8344\n",
      "Epoch 29/100\n",
      "8000/8000 [==============================] - 1s 140us/step - loss: 0.4028 - acc: 0.8354\n",
      "Epoch 30/100\n",
      "8000/8000 [==============================] - 1s 143us/step - loss: 0.4032 - acc: 0.8346\n",
      "Epoch 31/100\n",
      "8000/8000 [==============================] - 1s 158us/step - loss: 0.4033 - acc: 0.8354\n",
      "Epoch 32/100\n",
      "8000/8000 [==============================] - 1s 139us/step - loss: 0.4029 - acc: 0.8354\n",
      "Epoch 33/100\n",
      "8000/8000 [==============================] - 1s 151us/step - loss: 0.4031 - acc: 0.8352\n",
      "Epoch 34/100\n",
      "8000/8000 [==============================] - 2s 195us/step - loss: 0.4029 - acc: 0.8350\n",
      "Epoch 35/100\n",
      "8000/8000 [==============================] - 1s 134us/step - loss: 0.4028 - acc: 0.8347\n",
      "Epoch 36/100\n",
      "8000/8000 [==============================] - 1s 131us/step - loss: 0.4028 - acc: 0.8349\n",
      "Epoch 37/100\n",
      "8000/8000 [==============================] - 1s 151us/step - loss: 0.4028 - acc: 0.8345\n",
      "Epoch 38/100\n",
      "8000/8000 [==============================] - 1s 145us/step - loss: 0.4023 - acc: 0.8356\n",
      "Epoch 39/100\n",
      "8000/8000 [==============================] - 1s 140us/step - loss: 0.4025 - acc: 0.8341\n",
      "Epoch 40/100\n",
      "8000/8000 [==============================] - 1s 143us/step - loss: 0.4025 - acc: 0.8346\n",
      "Epoch 41/100\n",
      "8000/8000 [==============================] - 1s 172us/step - loss: 0.4022 - acc: 0.8349\n",
      "Epoch 42/100\n",
      "8000/8000 [==============================] - 1s 165us/step - loss: 0.4026 - acc: 0.8350\n",
      "Epoch 43/100\n",
      "8000/8000 [==============================] - 1s 163us/step - loss: 0.4018 - acc: 0.8351\n",
      "Epoch 44/100\n",
      "8000/8000 [==============================] - 1s 170us/step - loss: 0.4025 - acc: 0.8350\n",
      "Epoch 45/100\n",
      "8000/8000 [==============================] - 1s 145us/step - loss: 0.4025 - acc: 0.8347\n",
      "Epoch 46/100\n",
      "8000/8000 [==============================] - 1s 151us/step - loss: 0.4022 - acc: 0.8347\n",
      "Epoch 47/100\n",
      "8000/8000 [==============================] - 2s 200us/step - loss: 0.4020 - acc: 0.8346\n",
      "Epoch 48/100\n",
      "8000/8000 [==============================] - 2s 194us/step - loss: 0.4017 - acc: 0.8370\n",
      "Epoch 49/100\n",
      "8000/8000 [==============================] - 2s 195us/step - loss: 0.4018 - acc: 0.8342\n",
      "Epoch 50/100\n",
      "8000/8000 [==============================] - 2s 190us/step - loss: 0.4019 - acc: 0.8349\n",
      "Epoch 51/100\n",
      "8000/8000 [==============================] - 1s 185us/step - loss: 0.4015 - acc: 0.8349\n",
      "Epoch 52/100\n",
      "8000/8000 [==============================] - 2s 188us/step - loss: 0.4018 - acc: 0.8344\n",
      "Epoch 53/100\n",
      "8000/8000 [==============================] - 2s 190us/step - loss: 0.4018 - acc: 0.8336\n",
      "Epoch 54/100\n",
      "8000/8000 [==============================] - 2s 191us/step - loss: 0.4020 - acc: 0.8345\n",
      "Epoch 55/100\n",
      "8000/8000 [==============================] - 1s 182us/step - loss: 0.4016 - acc: 0.8340\n",
      "Epoch 56/100\n",
      "8000/8000 [==============================] - 2s 190us/step - loss: 0.4016 - acc: 0.8341\n",
      "Epoch 57/100\n",
      "8000/8000 [==============================] - 2s 194us/step - loss: 0.4017 - acc: 0.8354\n",
      "Epoch 58/100\n",
      "8000/8000 [==============================] - 2s 191us/step - loss: 0.4018 - acc: 0.8355\n",
      "Epoch 59/100\n",
      "8000/8000 [==============================] - 2s 195us/step - loss: 0.4013 - acc: 0.8360\n",
      "Epoch 60/100\n",
      "8000/8000 [==============================] - 2s 202us/step - loss: 0.4015 - acc: 0.8349\n",
      "Epoch 61/100\n",
      "8000/8000 [==============================] - 2s 193us/step - loss: 0.4022 - acc: 0.8347\n",
      "Epoch 62/100\n",
      "8000/8000 [==============================] - 2s 191us/step - loss: 0.4015 - acc: 0.8362\n",
      "Epoch 63/100\n",
      "8000/8000 [==============================] - 2s 189us/step - loss: 0.4014 - acc: 0.8352\n",
      "Epoch 64/100\n",
      "8000/8000 [==============================] - 2s 196us/step - loss: 0.4011 - acc: 0.8357\n",
      "Epoch 65/100\n",
      "8000/8000 [==============================] - 2s 192us/step - loss: 0.4017 - acc: 0.8347\n",
      "Epoch 66/100\n",
      "8000/8000 [==============================] - 2s 193us/step - loss: 0.4015 - acc: 0.8357\n",
      "Epoch 67/100\n",
      "8000/8000 [==============================] - 2s 201us/step - loss: 0.4015 - acc: 0.8345 1\n",
      "Epoch 68/100\n",
      "5460/8000 [===================>..........] - ETA: 0s - loss: 0.4105 - acc: 0.8328"
     ]
    }
   ],
   "source": [
    "# Fitting the ANN to the training set\n",
    "classifier.fit(X_train, Y_train, batch_size=10, nb_epoch = 100)"
   ]
  },
  {
   "cell_type": "code",
   "execution_count": null,
   "metadata": {},
   "outputs": [],
   "source": [
    "# Predicting the Test set results\n",
    "Y_pred = classifier.predict(X_test)\n",
    "Y_pred = (Y_pred > 0.5)"
   ]
  },
  {
   "cell_type": "code",
   "execution_count": null,
   "metadata": {},
   "outputs": [],
   "source": [
    "# Making the confusion Matrix\n",
    "from sklearn.metrics import confusion_matrix\n",
    "cm = confusion_matrix(Y_test, Y_pred)"
   ]
  }
 ],
 "metadata": {
  "kernelspec": {
   "display_name": "Python 3",
   "language": "python",
   "name": "python3"
  },
  "language_info": {
   "codemirror_mode": {
    "name": "ipython",
    "version": 3
   },
   "file_extension": ".py",
   "mimetype": "text/x-python",
   "name": "python",
   "nbconvert_exporter": "python",
   "pygments_lexer": "ipython3",
   "version": "3.6.2"
  }
 },
 "nbformat": 4,
 "nbformat_minor": 2
}
