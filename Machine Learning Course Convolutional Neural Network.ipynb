{
 "cells": [
  {
   "cell_type": "code",
   "execution_count": 1,
   "metadata": {},
   "outputs": [
    {
     "name": "stderr",
     "output_type": "stream",
     "text": [
      "Using TensorFlow backend.\n"
     ]
    }
   ],
   "source": [
    "from keras.models import Sequential# to initialise neural networks\n",
    "from keras.layers import Convolution2D# we add convolational layers here\n",
    "from keras.layers import MaxPooling2D# pooling layers \n",
    "from keras.layers import Flatten# covert all the pools into large feactur vectors which are input to fully connected layers\n",
    "from keras.layers import Dense# for fully connected layers\n",
    "from IPython.display import display\n",
    "from PIL import Image"
   ]
  },
  {
   "cell_type": "code",
   "execution_count": 2,
   "metadata": {},
   "outputs": [],
   "source": [
    "#Initialising CNN\n",
    "classifier = Sequential()"
   ]
  },
  {
   "cell_type": "code",
   "execution_count": 3,
   "metadata": {},
   "outputs": [],
   "source": [
    "#step - 1 - Convolution\n",
    "classifier.add(Convolution2D(32,( 3, 3), input_shape=(64, 64, 3), activation='relu'))\n",
    "\n",
    "# 32 is the feature detectors \n",
    "#3 is the number of channels "
   ]
  },
  {
   "cell_type": "code",
   "execution_count": 4,
   "metadata": {},
   "outputs": [],
   "source": [
    "#step -2 -- Pooling\n",
    "classifier.add(MaxPooling2D(pool_size=(2, 2)))\n",
    "# max pooling - divided by 2 "
   ]
  },
  {
   "cell_type": "code",
   "execution_count": 5,
   "metadata": {},
   "outputs": [
    {
     "name": "stderr",
     "output_type": "stream",
     "text": [
      "c:\\users\\ananta arora\\appdata\\local\\programs\\python\\python36\\lib\\site-packages\\ipykernel_launcher.py:2: UserWarning: Update your `Conv2D` call to the Keras 2 API: `Conv2D(32, (3, 3), activation=\"relu\")`\n",
      "  \n"
     ]
    }
   ],
   "source": [
    "#Adding a second convolutional layer\n",
    "classifier.add(Convolution2D(32, 3, 3, activation='relu'))\n",
    "classifier.add(MaxPooling2D(pool_size=(2, 2)))"
   ]
  },
  {
   "cell_type": "code",
   "execution_count": 6,
   "metadata": {},
   "outputs": [],
   "source": [
    "\n",
    "classifier.add(Flatten())"
   ]
  },
  {
   "cell_type": "code",
   "execution_count": 7,
   "metadata": {},
   "outputs": [
    {
     "name": "stderr",
     "output_type": "stream",
     "text": [
      "c:\\users\\ananta arora\\appdata\\local\\programs\\python\\python36\\lib\\site-packages\\ipykernel_launcher.py:2: UserWarning: Update your `Dense` call to the Keras 2 API: `Dense(activation=\"relu\", units=128)`\n",
      "  \n",
      "c:\\users\\ananta arora\\appdata\\local\\programs\\python\\python36\\lib\\site-packages\\ipykernel_launcher.py:3: UserWarning: Update your `Dense` call to the Keras 2 API: `Dense(activation=\"sigmoid\", units=1)`\n",
      "  This is separate from the ipykernel package so we can avoid doing imports until\n"
     ]
    }
   ],
   "source": [
    "#Step -4 \n",
    "classifier.add(Dense(output_dim=128, activation='relu'))\n",
    "classifier.add(Dense(output_dim=1, activation='sigmoid'))\n",
    "# output dim is the number of nodes in the hidden layer "
   ]
  },
  {
   "cell_type": "code",
   "execution_count": 8,
   "metadata": {},
   "outputs": [],
   "source": [
    "#Compiling the CNN\n",
    "classifier.compile(\n",
    "    optimizer='adam',\n",
    "    loss='binary_crossentropy',    metrics=['accuracy'])"
   ]
  },
  {
   "cell_type": "code",
   "execution_count": 9,
   "metadata": {},
   "outputs": [],
   "source": [
    "# now we will use image augentation so that no overfitting, good accuracy, good performance even if less images and will not let us add more images  "
   ]
  },
  {
   "cell_type": "code",
   "execution_count": 10,
   "metadata": {},
   "outputs": [
    {
     "name": "stdout",
     "output_type": "stream",
     "text": [
      "Found 8000 images belonging to 2 classes.\n",
      "Found 1045 images belonging to 2 classes.\n"
     ]
    }
   ],
   "source": [
    "# part - 2 -- Fitting the CNN to the images\n",
    "from keras.preprocessing.image import ImageDataGenerator\n",
    "\n",
    "train_datagen= ImageDataGenerator(\n",
    "    rescale=1./255,\n",
    "    shear_range=0.2,\n",
    "        zoom_range=0.2,\n",
    "    horizontal_flip=True\n",
    ")\n",
    "test_datagen = ImageDataGenerator(rescale=1./255)\n",
    "\n",
    "training_set = train_datagen.flow_from_directory(\n",
    "    'C:/Users/Ananta Arora/Documents/Machine Learning A-Z/Convolutional_Neural_Networks/Dataset/training_set', # path/to/data/\n",
    "    target_size=(64, 64),\n",
    "    batch_size=32,\n",
    "    class_mode='binary'\n",
    ")\n",
    "test_set = test_datagen.flow_from_directory(\n",
    "    'C:/Users/Ananta Arora/Documents/Machine Learning A-Z/Convolutional_Neural_Networks/Dataset/test_set',\n",
    "    target_size=(64, 64),\n",
    "    batch_size=32,\n",
    "    class_mode='binary'\n",
    ")"
   ]
  },
  {
   "cell_type": "code",
   "execution_count": null,
   "metadata": {},
   "outputs": [
    {
     "name": "stderr",
     "output_type": "stream",
     "text": [
      "c:\\users\\ananta arora\\appdata\\local\\programs\\python\\python36\\lib\\site-packages\\ipykernel_launcher.py:8: UserWarning: The semantics of the Keras 2 argument `steps_per_epoch` is not the same as the Keras 1 argument `samples_per_epoch`. `steps_per_epoch` is the number of batches to draw from the generator at each epoch. Basically steps_per_epoch = samples_per_epoch/batch_size. Similarly `nb_val_samples`->`validation_steps` and `val_samples`->`steps` arguments have changed. Update your method calls accordingly.\n",
      "  \n",
      "c:\\users\\ananta arora\\appdata\\local\\programs\\python\\python36\\lib\\site-packages\\ipykernel_launcher.py:8: UserWarning: Update your `fit_generator` call to the Keras 2 API: `fit_generator(<keras.pre..., validation_data=<keras.pre..., steps_per_epoch=250, epochs=25, validation_steps=2000)`\n",
      "  \n"
     ]
    },
    {
     "name": "stdout",
     "output_type": "stream",
     "text": [
      "Epoch 1/25\n",
      "250/250 [==============================] - 554s 2s/step - loss: 0.6912 - acc: 0.5325 - val_loss: 0.6605 - val_acc: 0.5691\n",
      "Epoch 2/25\n",
      "250/250 [==============================] - 444s 2s/step - loss: 0.6520 - acc: 0.6189 - val_loss: 0.6258 - val_acc: 0.6390\n",
      "Epoch 3/25\n",
      "250/250 [==============================] - 423s 2s/step - loss: 0.6205 - acc: 0.6633 - val_loss: 0.8734 - val_acc: 0.4765\n",
      "Epoch 4/25\n",
      "250/250 [==============================] - 402s 2s/step - loss: 0.5753 - acc: 0.6962 - val_loss: 0.7240 - val_acc: 0.6084\n",
      "Epoch 5/25\n",
      "249/250 [============================>.] - ETA: 0s - loss: 0.5329 - acc: 0.7268"
     ]
    }
   ],
   "source": [
    "from IPython.display import display\n",
    "\n",
    "classifier.fit_generator(\n",
    "    training_set,\n",
    "    samples_per_epoch=8000,\n",
    "    nb_epoch=25,\n",
    "    validation_data=test_set,\n",
    "   nb_val_samples=2000\n",
    ")\n",
    "    "
   ]
  }
 ],
 "metadata": {
  "kernelspec": {
   "display_name": "Python 3",
   "language": "python",
   "name": "python3"
  },
  "language_info": {
   "codemirror_mode": {
    "name": "ipython",
    "version": 3
   },
   "file_extension": ".py",
   "mimetype": "text/x-python",
   "name": "python",
   "nbconvert_exporter": "python",
   "pygments_lexer": "ipython3",
   "version": "3.6.2"
  }
 },
 "nbformat": 4,
 "nbformat_minor": 2
}
